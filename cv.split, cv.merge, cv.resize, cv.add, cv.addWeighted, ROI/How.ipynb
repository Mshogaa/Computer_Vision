{
 "cells": [
  {
   "cell_type": "code",
   "execution_count": null,
   "metadata": {},
   "outputs": [],
   "source": [
    "import cv2 \n",
    "img=cv2.imread(\"apple.jpg\")\n",
    "img2=cv2.imread(\"messi.jpg\")\n",
    "print(img.shape)\n",
    "print(img.size)\n",
    "print(img.dtype)\n",
    "b,g,r=cv2.split(img)\n",
    "img=cv2.merge((b,g,r))\n",
    "#ball = img[280:340,330,390]\n",
    "#img[273:333,100:160]=ball\n",
    "img=cv2.resize(img,(512,512))\n",
    "img2=cv2.resize(img2,(512,512))\n",
    "#dst=cv2.add(img,img2)\n",
    "dst=cv2.addweighted(img,.5,img2,.5,100)\n",
    "cv2.imshow(\"frame\",dst)\n",
    "cv2.waitKey(0)\n",
    "cv2.destroyallwindows()"
   ]
  }
 ],
 "metadata": {
  "kernelspec": {
   "display_name": "Python 3",
   "language": "python",
   "name": "python3"
  },
  "language_info": {
   "name": "python",
   "version": "3.11.5"
  }
 },
 "nbformat": 4,
 "nbformat_minor": 2
}
