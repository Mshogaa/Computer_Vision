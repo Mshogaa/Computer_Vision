{
 "cells": [
  {
   "cell_type": "code",
   "execution_count": 1,
   "metadata": {},
   "outputs": [],
   "source": [
    "import cv2\n",
    "import numpy as np"
   ]
  },
  {
   "cell_type": "code",
   "execution_count": 2,
   "metadata": {},
   "outputs": [
    {
     "name": "stdout",
     "output_type": "stream",
     "text": [
      "['EVENT_FLAG_ALTKEY', 'EVENT_FLAG_CTRLKEY', 'EVENT_FLAG_LBUTTON', 'EVENT_FLAG_MBUTTON', 'EVENT_FLAG_RBUTTON', 'EVENT_FLAG_SHIFTKEY', 'EVENT_LBUTTONDBLCLK', 'EVENT_LBUTTONDOWN', 'EVENT_LBUTTONUP', 'EVENT_MBUTTONDBLCLK', 'EVENT_MBUTTONDOWN', 'EVENT_MBUTTONUP', 'EVENT_MOUSEHWHEEL', 'EVENT_MOUSEMOVE', 'EVENT_MOUSEWHEEL', 'EVENT_RBUTTONDBLCLK', 'EVENT_RBUTTONDOWN', 'EVENT_RBUTTONUP']\n"
     ]
    }
   ],
   "source": [
    "events=[i for i in dir(cv2) if 'EVENT' in i]\n",
    "print(events)"
   ]
  },
  {
   "cell_type": "code",
   "execution_count": 3,
   "metadata": {},
   "outputs": [
    {
     "name": "stdout",
     "output_type": "stream",
     "text": [
      "149 , 250\n",
      "153 , 139\n",
      "234 , 355\n",
      "77 , 194\n",
      "295 , 297\n"
     ]
    }
   ],
   "source": [
    "def Click_event(event,x,y,flags,param):\n",
    "    if event==cv2.EVENT_LBUTTONDOWN:\n",
    "        print(x,',',y)\n",
    "        font=cv2.FONT_HERSHEY_SIMPLEX\n",
    "        strxy=str(x)+','+str(y)\n",
    "        cv2.putText(img,strxy,(x,y),font,.5,(255,255,0),2)\n",
    "        cv2.imshow('image',img)\n",
    "    if event==cv2.EVENT_RBUTTONDOWN:\n",
    "        blue=img[y,x,0]\n",
    "        green=img[y,x,1]\n",
    "        red=img[y,x,2]\n",
    "        font=cv2.FONT_HERSHEY_SIMPLEX\n",
    "        strbgr=str(blue)+','+str(green)+','+str(red)\n",
    "        cv2.putText(img,strbgr,(x,y),font,.5,(0,255,255),2)\n",
    "        cv2.imshow('image',img)\n",
    "img=cv2.imread('apple.jpg')\n",
    "cv2.imshow('image',img)\n",
    "cv2.setMouseCallback('image',Click_event)\n",
    "cv2.waitKey(0)\n",
    "cv2.destroyAllWindows()"
   ]
  },
  {
   "cell_type": "code",
   "execution_count": null,
   "metadata": {},
   "outputs": [],
   "source": []
  }
 ],
 "metadata": {
  "kernelspec": {
   "display_name": "Python 3",
   "language": "python",
   "name": "python3"
  },
  "language_info": {
   "codemirror_mode": {
    "name": "ipython",
    "version": 3
   },
   "file_extension": ".py",
   "mimetype": "text/x-python",
   "name": "python",
   "nbconvert_exporter": "python",
   "pygments_lexer": "ipython3",
   "version": "3.11.5"
  }
 },
 "nbformat": 4,
 "nbformat_minor": 2
}
