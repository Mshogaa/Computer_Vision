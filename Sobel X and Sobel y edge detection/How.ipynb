{
 "cells": [
  {
   "cell_type": "code",
   "execution_count": 1,
   "metadata": {},
   "outputs": [],
   "source": [
    "import cv2\n",
    "import numpy as np"
   ]
  },
  {
   "cell_type": "code",
   "execution_count": 4,
   "metadata": {},
   "outputs": [],
   "source": [
    "img=cv2.imread('messi5.jpg',0)\n",
    "sobel_x=cv2.Sobel(img,cv2.CV_64F,1,0)\n",
    "sobel_y=cv2.Sobel(img,cv2.CV_64F,0,1)\n",
    "sobel_x=np.uint8(np.absolute(sobel_x))\n",
    "sobel_y=np.uint8(np.absolute(sobel_y))\n",
    "cv2.imshow('img',img)\n",
    "\n",
    "cv2.imshow('sobel_x',sobel_x)\n",
    "cv2.imshow('sobel_y',sobel_y)\n",
    "\n",
    "cv2.waitKey(0)\n",
    "cv2.destroyAllWindows()"
   ]
  },
  {
   "cell_type": "code",
   "execution_count": null,
   "metadata": {},
   "outputs": [],
   "source": []
  }
 ],
 "metadata": {
  "kernelspec": {
   "display_name": "base",
   "language": "python",
   "name": "python3"
  },
  "language_info": {
   "codemirror_mode": {
    "name": "ipython",
    "version": 3
   },
   "file_extension": ".py",
   "mimetype": "text/x-python",
   "name": "python",
   "nbconvert_exporter": "python",
   "pygments_lexer": "ipython3",
   "version": "3.12.4"
  }
 },
 "nbformat": 4,
 "nbformat_minor": 2
}
