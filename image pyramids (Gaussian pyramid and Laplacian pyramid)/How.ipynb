{
 "cells": [
  {
   "cell_type": "code",
   "execution_count": 2,
   "metadata": {},
   "outputs": [],
   "source": [
    "import cv2\n",
    "\n",
    "import numpy as np\n",
    "\n",
    "img = cv2.imread(\"lena.jpg\")\n",
    "\n",
    "layer = img.copy()\n",
    "\n",
    "gaussian_pyramid_list = [layer]\n",
    "\n",
    "\n",
    "\n",
    "for i in range(6):\n",
    "\n",
    "    layer = cv2.pyrDown(layer)     \n",
    "\n",
    "    gaussian_pyramid_list.append(layer)     \n",
    "\n",
    "    #cv2.imshow(str(i), layer)     \n",
    "\n",
    "\n",
    "\n",
    "layer = gaussian_pyramid_list[5]\n",
    "\n",
    "cv2.imshow('upper level Gaussian Pyramid', layer)\n",
    "\n",
    "laplacian_pyramid_list = [layer]\n",
    "\n",
    "\n",
    "\n",
    "for i in range(5, 0, -1):\n",
    "\n",
    "    gaussian_extended = cv2.pyrUp(gaussian_pyramid_list[i])     \n",
    "\n",
    "    laplacian = cv2.subtract(gaussian_pyramid_list[i-1], gaussian_extended)     \n",
    "\n",
    "    cv2.imshow(str(i), laplacian)     \n",
    "\n",
    "\n",
    "\n",
    "cv2.imshow(\"Original image\", img)\n",
    "\n",
    "cv2.waitKey(0)\n",
    "\n",
    "cv2.destroyAllWindows()#close window"
   ]
  },
  {
   "cell_type": "code",
   "execution_count": null,
   "metadata": {},
   "outputs": [],
   "source": []
  }
 ],
 "metadata": {
  "kernelspec": {
   "display_name": "base",
   "language": "python",
   "name": "python3"
  },
  "language_info": {
   "codemirror_mode": {
    "name": "ipython",
    "version": 3
   },
   "file_extension": ".py",
   "mimetype": "text/x-python",
   "name": "python",
   "nbconvert_exporter": "python",
   "pygments_lexer": "ipython3",
   "version": "3.12.4"
  }
 },
 "nbformat": 4,
 "nbformat_minor": 2
}
