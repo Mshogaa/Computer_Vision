{
 "cells": [
  {
   "cell_type": "code",
   "execution_count": 2,
   "metadata": {},
   "outputs": [],
   "source": [
    "import cv2\n",
    "import numpy as np\n",
    "img1=np.zeros((250,500,3),np.uint8)\n",
    "img1=cv2.rectangle(img1,(200,0),(300,100),(255,255,255),-1)\n",
    "img2=np.full((250,500,3),255,dtype=np.uint8)\n",
    "img2=cv2.rectangle(img2,(0,0),(250,250),(0,0,0),-1)\n",
    "\n",
    "bitAnd=cv2.bitwise_and(img1,img2)\n",
    "bitOr=cv2.bitwise_or(img1,img2)\n",
    "biXor=cv2.bitwise_xor(img1,img2)\n",
    "bitNot1=cv2.bitwise_not(img1)\n",
    "bitNot2=cv2.bitwise_not(img1)\n",
    "cv2.imshow('bitAnd',bitAnd)\n",
    "cv2.imshow('bitOr',bitOr)\n",
    "cv2.imshow('bitXor',biXor)\n",
    "cv2.imshow('bitNot1',bitNot1)\n",
    "cv2.imshow('bitNot2',bitNot2)\n",
    "cv2.waitKey(0)\n",
    "cv2.destroyAllWindows()"
   ]
  },
  {
   "cell_type": "code",
   "execution_count": null,
   "metadata": {},
   "outputs": [],
   "source": []
  }
 ],
 "metadata": {
  "kernelspec": {
   "display_name": "Python 3",
   "language": "python",
   "name": "python3"
  },
  "language_info": {
   "codemirror_mode": {
    "name": "ipython",
    "version": 3
   },
   "file_extension": ".py",
   "mimetype": "text/x-python",
   "name": "python",
   "nbconvert_exporter": "python",
   "pygments_lexer": "ipython3",
   "version": "3.11.5"
  }
 },
 "nbformat": 4,
 "nbformat_minor": 2
}
